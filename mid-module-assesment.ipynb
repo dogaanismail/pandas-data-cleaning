{
 "cells": [
  {
   "cell_type": "code",
   "execution_count": 638,
   "id": "initial_id",
   "metadata": {
    "collapsed": true,
    "ExecuteTime": {
     "end_time": "2024-02-23T20:44:53.818608Z",
     "start_time": "2024-02-23T20:44:53.803418Z"
    }
   },
   "outputs": [],
   "source": [
    "import pandas as pd\n",
    "import matplotlib.pyplot as plt"
   ]
  },
  {
   "cell_type": "code",
   "execution_count": 639,
   "outputs": [],
   "source": [
    "# Read CSV file \n",
    "df = pd.read_csv(\"SIS_Faculty-List.csv\", encoding=\"ISO-8859-1\")"
   ],
   "metadata": {
    "collapsed": false,
    "ExecuteTime": {
     "end_time": "2024-02-23T20:44:54.292935Z",
     "start_time": "2024-02-23T20:44:54.287168Z"
    }
   },
   "id": "d392d7230aceb739"
  },
  {
   "cell_type": "code",
   "execution_count": 640,
   "outputs": [
    {
     "data": {
      "text/plain": "          ID           Name Location  Grade               Title Join\\nDate  \\\n0  LT9210743     Jim Hunter   London     FA  Faculty - Business  29-Aug-10   \n1  LT9001784     Jose Nadal   London     FA  Faculty - Business  19-Aug-99   \n2  LT9062955  Pierre Cornet   London     FA  Faculty - Business  08-Apr-07   \n3          0    Sally Smith   London     FA  Faculty - Business  14-Aug-16   \n4          0   Ned Shearer    London  Chair  Faculty - Business  14-Aug-16   \n\n   LWD       Type   Divison     Reports To Highest\\nQualification\\nLevel  \\\n0  NaN  Full Time  Business    Abbas Houda                       Masters   \n1  NaN  Full Time  Business    Abbas Houda                       Masters   \n2  NaN  Full Time  Business    Abbas Houda                       Masters   \n3  NaN  Full Time  Business    Abbas Houda                          Ph.D   \n4  NaN  Full Time  Business  Tony Emmanuel                          Ph.D   \n\n                           Highest Qualification  \\\n0                                 Master of Arts   \n1                              Master of Science   \n2                 Master of Business Administrat   \n3         Ph.D in HRM/ Organizational pyschology   \n4  Ph.D in Economics and International Business    \n\n                                   Major                     University  \\\n0                  International Affairs  American University of Beirut   \n1              Business Info. Technology      University of Northumbria   \n2                              Marketing            Griffith University   \n3         HRM/ Organizational Psychology  The University of Swansea, UK   \n4  Economics and International Business        New York University, USA   \n\n                     All Qualifications from Profile  \\\n0  Bachelor of Science (Communications), Master o...   \n1  Bachelor of Arts (Finance), Certificate (Manag...   \n2  Certificate (Educating/Teaching Adult), Associ...   \n3  Bachelor(finance & Mgt), Masters(MBA & Masters...   \n4  Bachelor( Economics), Masters( Economics and I...   \n\n                         Courses Taught- Term 201510  \\\n0  BUS2403 - Innovation & Entrepreneurship\\nBUS20...   \n1  BUS4173 - Managerial Accounting II\\nBUS4916 - ...   \n2  BUS3903 - Contemporary Business\\nBUS1303 - Mar...   \n3  HRM, Organizational behaviour, Strategic Mgt, ...   \n4  Micro and Macroeconomics, Statistics,Introduct...   \n\n                    MAJOR TEACHING FIELD  \\\n0                Business Administration   \n1                               Business   \n2    Marketing and Strategic Management    \n3                                    HRM   \n4  Economics and International Business    \n\n  DOCUMENT OTHER PROFESSIONAL CERTIFICATION CRITIERA Five Years Work Experience Teaching Excellence Professional Certifications  \\\n0  10+ Years Small Business Ownership, 10+ Years ...                                                                              \n1  years of teaching experience: 17              ...                                                                              \n2  Years of teaching experience: 15\\nYears of pro...                                                                              \n3  6 years professional experience + 6 years teac...                                                                              \n4  1 year professional experience + 24 years teac...                                                                              \n\n                            Criteria  \n0     Industry & Teaching experience  \n1                      Certification  \n2     Industry & Teaching experience  \n3                         Researcher  \n4  Researcher/Curriculum Development  ",
      "text/html": "<div>\n<style scoped>\n    .dataframe tbody tr th:only-of-type {\n        vertical-align: middle;\n    }\n\n    .dataframe tbody tr th {\n        vertical-align: top;\n    }\n\n    .dataframe thead th {\n        text-align: right;\n    }\n</style>\n<table border=\"1\" class=\"dataframe\">\n  <thead>\n    <tr style=\"text-align: right;\">\n      <th></th>\n      <th>ID</th>\n      <th>Name</th>\n      <th>Location</th>\n      <th>Grade</th>\n      <th>Title</th>\n      <th>Join\\nDate</th>\n      <th>LWD</th>\n      <th>Type</th>\n      <th>Divison</th>\n      <th>Reports To</th>\n      <th>Highest\\nQualification\\nLevel</th>\n      <th>Highest Qualification</th>\n      <th>Major</th>\n      <th>University</th>\n      <th>All Qualifications from Profile</th>\n      <th>Courses Taught- Term 201510</th>\n      <th>MAJOR TEACHING FIELD</th>\n      <th>DOCUMENT OTHER PROFESSIONAL CERTIFICATION CRITIERA Five Years Work Experience Teaching Excellence Professional Certifications</th>\n      <th>Criteria</th>\n    </tr>\n  </thead>\n  <tbody>\n    <tr>\n      <th>0</th>\n      <td>LT9210743</td>\n      <td>Jim Hunter</td>\n      <td>London</td>\n      <td>FA</td>\n      <td>Faculty - Business</td>\n      <td>29-Aug-10</td>\n      <td>NaN</td>\n      <td>Full Time</td>\n      <td>Business</td>\n      <td>Abbas Houda</td>\n      <td>Masters</td>\n      <td>Master of Arts</td>\n      <td>International Affairs</td>\n      <td>American University of Beirut</td>\n      <td>Bachelor of Science (Communications), Master o...</td>\n      <td>BUS2403 - Innovation &amp; Entrepreneurship\\nBUS20...</td>\n      <td>Business Administration</td>\n      <td>10+ Years Small Business Ownership, 10+ Years ...</td>\n      <td>Industry &amp; Teaching experience</td>\n    </tr>\n    <tr>\n      <th>1</th>\n      <td>LT9001784</td>\n      <td>Jose Nadal</td>\n      <td>London</td>\n      <td>FA</td>\n      <td>Faculty - Business</td>\n      <td>19-Aug-99</td>\n      <td>NaN</td>\n      <td>Full Time</td>\n      <td>Business</td>\n      <td>Abbas Houda</td>\n      <td>Masters</td>\n      <td>Master of Science</td>\n      <td>Business Info. Technology</td>\n      <td>University of Northumbria</td>\n      <td>Bachelor of Arts (Finance), Certificate (Manag...</td>\n      <td>BUS4173 - Managerial Accounting II\\nBUS4916 - ...</td>\n      <td>Business</td>\n      <td>years of teaching experience: 17              ...</td>\n      <td>Certification</td>\n    </tr>\n    <tr>\n      <th>2</th>\n      <td>LT9062955</td>\n      <td>Pierre Cornet</td>\n      <td>London</td>\n      <td>FA</td>\n      <td>Faculty - Business</td>\n      <td>08-Apr-07</td>\n      <td>NaN</td>\n      <td>Full Time</td>\n      <td>Business</td>\n      <td>Abbas Houda</td>\n      <td>Masters</td>\n      <td>Master of Business Administrat</td>\n      <td>Marketing</td>\n      <td>Griffith University</td>\n      <td>Certificate (Educating/Teaching Adult), Associ...</td>\n      <td>BUS3903 - Contemporary Business\\nBUS1303 - Mar...</td>\n      <td>Marketing and Strategic Management</td>\n      <td>Years of teaching experience: 15\\nYears of pro...</td>\n      <td>Industry &amp; Teaching experience</td>\n    </tr>\n    <tr>\n      <th>3</th>\n      <td>0</td>\n      <td>Sally Smith</td>\n      <td>London</td>\n      <td>FA</td>\n      <td>Faculty - Business</td>\n      <td>14-Aug-16</td>\n      <td>NaN</td>\n      <td>Full Time</td>\n      <td>Business</td>\n      <td>Abbas Houda</td>\n      <td>Ph.D</td>\n      <td>Ph.D in HRM/ Organizational pyschology</td>\n      <td>HRM/ Organizational Psychology</td>\n      <td>The University of Swansea, UK</td>\n      <td>Bachelor(finance &amp; Mgt), Masters(MBA &amp; Masters...</td>\n      <td>HRM, Organizational behaviour, Strategic Mgt, ...</td>\n      <td>HRM</td>\n      <td>6 years professional experience + 6 years teac...</td>\n      <td>Researcher</td>\n    </tr>\n    <tr>\n      <th>4</th>\n      <td>0</td>\n      <td>Ned Shearer</td>\n      <td>London</td>\n      <td>Chair</td>\n      <td>Faculty - Business</td>\n      <td>14-Aug-16</td>\n      <td>NaN</td>\n      <td>Full Time</td>\n      <td>Business</td>\n      <td>Tony Emmanuel</td>\n      <td>Ph.D</td>\n      <td>Ph.D in Economics and International Business</td>\n      <td>Economics and International Business</td>\n      <td>New York University, USA</td>\n      <td>Bachelor( Economics), Masters( Economics and I...</td>\n      <td>Micro and Macroeconomics, Statistics,Introduct...</td>\n      <td>Economics and International Business</td>\n      <td>1 year professional experience + 24 years teac...</td>\n      <td>Researcher/Curriculum Development</td>\n    </tr>\n  </tbody>\n</table>\n</div>"
     },
     "execution_count": 640,
     "metadata": {},
     "output_type": "execute_result"
    }
   ],
   "source": [
    "df.head()"
   ],
   "metadata": {
    "collapsed": false,
    "ExecuteTime": {
     "end_time": "2024-02-23T20:44:54.694765Z",
     "start_time": "2024-02-23T20:44:54.691567Z"
    }
   },
   "id": "20188d7026bec75c"
  },
  {
   "cell_type": "code",
   "execution_count": 641,
   "outputs": [
    {
     "name": "stdout",
     "output_type": "stream",
     "text": [
      "<class 'pandas.core.frame.DataFrame'>\n",
      "RangeIndex: 284 entries, 0 to 283\n",
      "Data columns (total 19 columns):\n",
      " #   Column                                                                                                                         Non-Null Count  Dtype \n",
      "---  ------                                                                                                                         --------------  ----- \n",
      " 0   ID                                                                                                                             282 non-null    object\n",
      " 1   Name                                                                                                                           284 non-null    object\n",
      " 2   Location                                                                                                                       270 non-null    object\n",
      " 3   Grade                                                                                                                          284 non-null    object\n",
      " 4   Title                                                                                                                          284 non-null    object\n",
      " 5   Join\n",
      "Date                                                                                                                      283 non-null    object\n",
      " 6   LWD                                                                                                                            11 non-null     object\n",
      " 7   Type                                                                                                                           284 non-null    object\n",
      " 8   Divison                                                                                                                        284 non-null    object\n",
      " 9   Reports To                                                                                                                     280 non-null    object\n",
      " 10  Highest\n",
      "Qualification\n",
      "Level                                                                                                    278 non-null    object\n",
      " 11  Highest Qualification                                                                                                          278 non-null    object\n",
      " 12  Major                                                                                                                          262 non-null    object\n",
      " 13  University                                                                                                                     278 non-null    object\n",
      " 14  All Qualifications from Profile                                                                                                274 non-null    object\n",
      " 15  Courses Taught- Term 201510                                                                                                    273 non-null    object\n",
      " 16  MAJOR TEACHING FIELD                                                                                                           225 non-null    object\n",
      " 17  DOCUMENT OTHER PROFESSIONAL CERTIFICATION CRITIERA Five Years Work Experience Teaching Excellence Professional Certifications  222 non-null    object\n",
      " 18  Criteria                                                                                                                       284 non-null    object\n",
      "dtypes: object(19)\n",
      "memory usage: 42.3+ KB\n"
     ]
    }
   ],
   "source": [
    "df.info()"
   ],
   "metadata": {
    "collapsed": false,
    "ExecuteTime": {
     "end_time": "2024-02-23T20:44:55.107383Z",
     "start_time": "2024-02-23T20:44:55.098832Z"
    }
   },
   "id": "1b2cf31d117118b8"
  },
  {
   "cell_type": "code",
   "execution_count": 642,
   "outputs": [
    {
     "data": {
      "text/plain": "ID                                                                                                                                 2\nName                                                                                                                               0\nLocation                                                                                                                          14\nGrade                                                                                                                              0\nTitle                                                                                                                              0\nJoin\\nDate                                                                                                                         1\nLWD                                                                                                                              273\nType                                                                                                                               0\nDivison                                                                                                                            0\nReports To                                                                                                                         4\nHighest\\nQualification\\nLevel                                                                                                      6\nHighest Qualification                                                                                                              6\nMajor                                                                                                                             22\nUniversity                                                                                                                         6\nAll Qualifications from Profile                                                                                                   10\nCourses Taught- Term 201510                                                                                                       11\nMAJOR TEACHING FIELD                                                                                                              59\nDOCUMENT OTHER PROFESSIONAL CERTIFICATION CRITIERA Five Years Work Experience Teaching Excellence Professional Certifications     62\nCriteria                                                                                                                           0\ndtype: int64"
     },
     "execution_count": 642,
     "metadata": {},
     "output_type": "execute_result"
    }
   ],
   "source": [
    "df.isnull().sum()"
   ],
   "metadata": {
    "collapsed": false,
    "ExecuteTime": {
     "end_time": "2024-02-23T20:44:55.522833Z",
     "start_time": "2024-02-23T20:44:55.519141Z"
    }
   },
   "id": "13340e086c4a76fe"
  },
  {
   "cell_type": "code",
   "execution_count": 643,
   "outputs": [
    {
     "data": {
      "text/plain": "ID                                                                                                                                 2\nName                                                                                                                               0\nLocation                                                                                                                          14\nGrade                                                                                                                              0\nTitle                                                                                                                              0\nJoin\\nDate                                                                                                                         1\nLWD                                                                                                                              273\nType                                                                                                                               0\nDivison                                                                                                                            0\nReports To                                                                                                                         4\nHighest\\nQualification\\nLevel                                                                                                      6\nHighest Qualification                                                                                                              6\nMajor                                                                                                                             22\nUniversity                                                                                                                         6\nAll Qualifications from Profile                                                                                                   10\nCourses Taught- Term 201510                                                                                                       11\nMAJOR TEACHING FIELD                                                                                                              59\nDOCUMENT OTHER PROFESSIONAL CERTIFICATION CRITIERA Five Years Work Experience Teaching Excellence Professional Certifications     62\nCriteria                                                                                                                           0\ndtype: int64"
     },
     "execution_count": 643,
     "metadata": {},
     "output_type": "execute_result"
    }
   ],
   "source": [
    "df.isna().sum()"
   ],
   "metadata": {
    "collapsed": false,
    "ExecuteTime": {
     "end_time": "2024-02-23T20:44:55.928212Z",
     "start_time": "2024-02-23T20:44:55.924125Z"
    }
   },
   "id": "bb218a1d1584412b"
  },
  {
   "cell_type": "code",
   "execution_count": 644,
   "outputs": [
    {
     "data": {
      "text/plain": "476"
     },
     "execution_count": 644,
     "metadata": {},
     "output_type": "execute_result"
    }
   ],
   "source": [
    "df.isnull().sum().sum()"
   ],
   "metadata": {
    "collapsed": false,
    "ExecuteTime": {
     "end_time": "2024-02-23T20:44:56.351989Z",
     "start_time": "2024-02-23T20:44:56.347937Z"
    }
   },
   "id": "e20ea075fc62df64"
  },
  {
   "cell_type": "code",
   "execution_count": 645,
   "outputs": [
    {
     "data": {
      "text/plain": "0"
     },
     "execution_count": 645,
     "metadata": {},
     "output_type": "execute_result"
    }
   ],
   "source": [
    "# Check for duplicate rows\n",
    "duplicate_rows = df.duplicated().sum()\n",
    "duplicate_rows"
   ],
   "metadata": {
    "collapsed": false,
    "ExecuteTime": {
     "end_time": "2024-02-23T20:44:56.793875Z",
     "start_time": "2024-02-23T20:44:56.787283Z"
    }
   },
   "id": "cebcb12cd8fdcb46"
  },
  {
   "cell_type": "code",
   "execution_count": 646,
   "outputs": [
    {
     "data": {
      "text/plain": "         ID           Name Location Grade               Title Join\\nDate  \\\ncount   282            284      270   284                 284        283   \nunique  243            282       16     2                  12        143   \ntop       0  Zikida Koudou  Bristol    FA  Faculty - Business  14-Aug-16   \nfreq     40              2       49   282                 252         41   \n\n              LWD       Type   Divison  Reports To  \\\ncount          11        284       284         280   \nunique          2          1         1          15   \ntop     17-Dec-15  Full Time  Business  Ian Varley   \nfreq            6        284       284          33   \n\n       Highest\\nQualification\\nLevel           Highest Qualification  \\\ncount                            278                             278   \nunique                            18                              59   \ntop                          Masters  Master of Business Administrat   \nfreq                             157                              73   \n\n                          Major                University  \\\ncount                       262                       278   \nunique                      115                       214   \ntop     Business Administration  University of Wollongong   \nfreq                         45                         8   \n\n                          All Qualifications from Profile  \\\ncount                                                 274   \nunique                                                262   \ntop     Master of Business Administrat (Business Admin...   \nfreq                                                    7   \n\n            Courses Taught- Term 201510 MAJOR TEACHING FIELD  \\\ncount                               273                  225   \nunique                              269                  143   \ntop     Faculty Trainee/MBA in Progress     General Business   \nfreq                                  2                   19   \n\n       DOCUMENT OTHER PROFESSIONAL CERTIFICATION CRITIERA Five Years Work Experience Teaching Excellence Professional Certifications  \\\ncount                                                 222                                                                              \nunique                                                208                                                                              \ntop                     More than 5 years work experience                                                                              \nfreq                                                   14                                                                              \n\n                              Criteria  \ncount                              284  \nunique                               8  \ntop     Industry & Teaching experience  \nfreq                               231  ",
      "text/html": "<div>\n<style scoped>\n    .dataframe tbody tr th:only-of-type {\n        vertical-align: middle;\n    }\n\n    .dataframe tbody tr th {\n        vertical-align: top;\n    }\n\n    .dataframe thead th {\n        text-align: right;\n    }\n</style>\n<table border=\"1\" class=\"dataframe\">\n  <thead>\n    <tr style=\"text-align: right;\">\n      <th></th>\n      <th>ID</th>\n      <th>Name</th>\n      <th>Location</th>\n      <th>Grade</th>\n      <th>Title</th>\n      <th>Join\\nDate</th>\n      <th>LWD</th>\n      <th>Type</th>\n      <th>Divison</th>\n      <th>Reports To</th>\n      <th>Highest\\nQualification\\nLevel</th>\n      <th>Highest Qualification</th>\n      <th>Major</th>\n      <th>University</th>\n      <th>All Qualifications from Profile</th>\n      <th>Courses Taught- Term 201510</th>\n      <th>MAJOR TEACHING FIELD</th>\n      <th>DOCUMENT OTHER PROFESSIONAL CERTIFICATION CRITIERA Five Years Work Experience Teaching Excellence Professional Certifications</th>\n      <th>Criteria</th>\n    </tr>\n  </thead>\n  <tbody>\n    <tr>\n      <th>count</th>\n      <td>282</td>\n      <td>284</td>\n      <td>270</td>\n      <td>284</td>\n      <td>284</td>\n      <td>283</td>\n      <td>11</td>\n      <td>284</td>\n      <td>284</td>\n      <td>280</td>\n      <td>278</td>\n      <td>278</td>\n      <td>262</td>\n      <td>278</td>\n      <td>274</td>\n      <td>273</td>\n      <td>225</td>\n      <td>222</td>\n      <td>284</td>\n    </tr>\n    <tr>\n      <th>unique</th>\n      <td>243</td>\n      <td>282</td>\n      <td>16</td>\n      <td>2</td>\n      <td>12</td>\n      <td>143</td>\n      <td>2</td>\n      <td>1</td>\n      <td>1</td>\n      <td>15</td>\n      <td>18</td>\n      <td>59</td>\n      <td>115</td>\n      <td>214</td>\n      <td>262</td>\n      <td>269</td>\n      <td>143</td>\n      <td>208</td>\n      <td>8</td>\n    </tr>\n    <tr>\n      <th>top</th>\n      <td>0</td>\n      <td>Zikida Koudou</td>\n      <td>Bristol</td>\n      <td>FA</td>\n      <td>Faculty - Business</td>\n      <td>14-Aug-16</td>\n      <td>17-Dec-15</td>\n      <td>Full Time</td>\n      <td>Business</td>\n      <td>Ian Varley</td>\n      <td>Masters</td>\n      <td>Master of Business Administrat</td>\n      <td>Business Administration</td>\n      <td>University of Wollongong</td>\n      <td>Master of Business Administrat (Business Admin...</td>\n      <td>Faculty Trainee/MBA in Progress</td>\n      <td>General Business</td>\n      <td>More than 5 years work experience</td>\n      <td>Industry &amp; Teaching experience</td>\n    </tr>\n    <tr>\n      <th>freq</th>\n      <td>40</td>\n      <td>2</td>\n      <td>49</td>\n      <td>282</td>\n      <td>252</td>\n      <td>41</td>\n      <td>6</td>\n      <td>284</td>\n      <td>284</td>\n      <td>33</td>\n      <td>157</td>\n      <td>73</td>\n      <td>45</td>\n      <td>8</td>\n      <td>7</td>\n      <td>2</td>\n      <td>19</td>\n      <td>14</td>\n      <td>231</td>\n    </tr>\n  </tbody>\n</table>\n</div>"
     },
     "execution_count": 646,
     "metadata": {},
     "output_type": "execute_result"
    }
   ],
   "source": [
    "# Basic statistics for numerical columns to help identify outliers\n",
    "numerical_stats = df.describe()\n",
    "numerical_stats"
   ],
   "metadata": {
    "collapsed": false,
    "ExecuteTime": {
     "end_time": "2024-02-23T20:44:57.258831Z",
     "start_time": "2024-02-23T20:44:57.238533Z"
    }
   },
   "id": "335e93c944d08bc9"
  },
  {
   "cell_type": "code",
   "execution_count": 647,
   "outputs": [
    {
     "name": "stdout",
     "output_type": "stream",
     "text": [
      "8.82134914751668\n"
     ]
    }
   ],
   "source": [
    "# Before cleansing\n",
    "total_values = df.size\n",
    "total_missing_values_before = df.isnull().sum().sum()\n",
    "percentage_missing_before = (total_missing_values_before / total_values) * 100\n",
    "print(percentage_missing_before)"
   ],
   "metadata": {
    "collapsed": false,
    "ExecuteTime": {
     "end_time": "2024-02-23T20:44:57.766157Z",
     "start_time": "2024-02-23T20:44:57.748986Z"
    }
   },
   "id": "a98a4b41b6ef9217"
  },
  {
   "cell_type": "code",
   "execution_count": 648,
   "outputs": [],
   "source": [
    "# Calculate missing values before cleansing\n",
    "missing_before = df.isna().sum()"
   ],
   "metadata": {
    "collapsed": false,
    "ExecuteTime": {
     "end_time": "2024-02-23T20:44:58.221772Z",
     "start_time": "2024-02-23T20:44:58.177087Z"
    }
   },
   "id": "bec2ff9d71e78585"
  },
  {
   "cell_type": "code",
   "execution_count": 649,
   "outputs": [],
   "source": [
    "# Drop columns\n",
    "columns_to_drop = [\"LWD\", \"Highest Qualification\",\n",
    "                   \"All Qualifications from Profile\",\n",
    "                   \"Courses Taught- Term 201510\",\n",
    "                   \"MAJOR TEACHING FIELD\",\n",
    "                   \"DOCUMENT OTHER PROFESSIONAL CERTIFICATION CRITIERA Five Years Work Experience Teaching Excellence Professional Certifications\",\n",
    "                   \"Type\",\n",
    "                   \"Divison\",\n",
    "                   \"Location\",\n",
    "                   \"Name\",\n",
    "                   \"Reports To\",\n",
    "                   \"Major\",\n",
    "                   \"University\"]\n",
    "df_cleaned = df.drop(columns=columns_to_drop)"
   ],
   "metadata": {
    "collapsed": false,
    "ExecuteTime": {
     "end_time": "2024-02-23T20:44:58.699617Z",
     "start_time": "2024-02-23T20:44:58.678152Z"
    }
   },
   "id": "5e3344df0dc9a424"
  },
  {
   "cell_type": "code",
   "execution_count": 650,
   "outputs": [],
   "source": [
    "df_cleaned.to_csv(\"SIS_Faculty-List_cleaned.csv\")"
   ],
   "metadata": {
    "collapsed": false,
    "ExecuteTime": {
     "end_time": "2024-02-23T20:44:59.256911Z",
     "start_time": "2024-02-23T20:44:59.249830Z"
    }
   },
   "id": "5530d9d36f511de"
  },
  {
   "cell_type": "code",
   "execution_count": 651,
   "outputs": [
    {
     "data": {
      "text/plain": "          ID  Grade               Title Join\\nDate  \\\n0  LT9210743     FA  Faculty - Business  29-Aug-10   \n1  LT9001784     FA  Faculty - Business  19-Aug-99   \n2  LT9062955     FA  Faculty - Business  08-Apr-07   \n3          0     FA  Faculty - Business  14-Aug-16   \n4          0  Chair  Faculty - Business  14-Aug-16   \n\n  Highest\\nQualification\\nLevel                           Criteria  \n0                       Masters     Industry & Teaching experience  \n1                       Masters                      Certification  \n2                       Masters     Industry & Teaching experience  \n3                          Ph.D                         Researcher  \n4                          Ph.D  Researcher/Curriculum Development  ",
      "text/html": "<div>\n<style scoped>\n    .dataframe tbody tr th:only-of-type {\n        vertical-align: middle;\n    }\n\n    .dataframe tbody tr th {\n        vertical-align: top;\n    }\n\n    .dataframe thead th {\n        text-align: right;\n    }\n</style>\n<table border=\"1\" class=\"dataframe\">\n  <thead>\n    <tr style=\"text-align: right;\">\n      <th></th>\n      <th>ID</th>\n      <th>Grade</th>\n      <th>Title</th>\n      <th>Join\\nDate</th>\n      <th>Highest\\nQualification\\nLevel</th>\n      <th>Criteria</th>\n    </tr>\n  </thead>\n  <tbody>\n    <tr>\n      <th>0</th>\n      <td>LT9210743</td>\n      <td>FA</td>\n      <td>Faculty - Business</td>\n      <td>29-Aug-10</td>\n      <td>Masters</td>\n      <td>Industry &amp; Teaching experience</td>\n    </tr>\n    <tr>\n      <th>1</th>\n      <td>LT9001784</td>\n      <td>FA</td>\n      <td>Faculty - Business</td>\n      <td>19-Aug-99</td>\n      <td>Masters</td>\n      <td>Certification</td>\n    </tr>\n    <tr>\n      <th>2</th>\n      <td>LT9062955</td>\n      <td>FA</td>\n      <td>Faculty - Business</td>\n      <td>08-Apr-07</td>\n      <td>Masters</td>\n      <td>Industry &amp; Teaching experience</td>\n    </tr>\n    <tr>\n      <th>3</th>\n      <td>0</td>\n      <td>FA</td>\n      <td>Faculty - Business</td>\n      <td>14-Aug-16</td>\n      <td>Ph.D</td>\n      <td>Researcher</td>\n    </tr>\n    <tr>\n      <th>4</th>\n      <td>0</td>\n      <td>Chair</td>\n      <td>Faculty - Business</td>\n      <td>14-Aug-16</td>\n      <td>Ph.D</td>\n      <td>Researcher/Curriculum Development</td>\n    </tr>\n  </tbody>\n</table>\n</div>"
     },
     "execution_count": 651,
     "metadata": {},
     "output_type": "execute_result"
    }
   ],
   "source": [
    "df_cleaned.head()"
   ],
   "metadata": {
    "collapsed": false,
    "ExecuteTime": {
     "end_time": "2024-02-23T20:44:59.720444Z",
     "start_time": "2024-02-23T20:44:59.714540Z"
    }
   },
   "id": "d96e862d6ac42e2f"
  },
  {
   "cell_type": "code",
   "execution_count": 652,
   "outputs": [],
   "source": [
    "# Rename columns\n",
    "columns_to_renamed = {\n",
    "    'Join\\nDate': 'JoinDate',\n",
    "    'Highest\\nQualification\\nLevel': 'Qualification'\n",
    "}\n",
    "df_cleaned = df_cleaned.rename(columns=columns_to_renamed)"
   ],
   "metadata": {
    "collapsed": false,
    "ExecuteTime": {
     "end_time": "2024-02-23T20:45:00.120402Z",
     "start_time": "2024-02-23T20:45:00.114706Z"
    }
   },
   "id": "101fc2dee9399be6"
  },
  {
   "cell_type": "code",
   "execution_count": 653,
   "outputs": [
    {
     "data": {
      "text/plain": "          ID  Grade               Title   JoinDate Qualification  \\\n0  LT9210743     FA  Faculty - Business  29-Aug-10       Masters   \n1  LT9001784     FA  Faculty - Business  19-Aug-99       Masters   \n2  LT9062955     FA  Faculty - Business  08-Apr-07       Masters   \n3          0     FA  Faculty - Business  14-Aug-16          Ph.D   \n4          0  Chair  Faculty - Business  14-Aug-16          Ph.D   \n\n                            Criteria  \n0     Industry & Teaching experience  \n1                      Certification  \n2     Industry & Teaching experience  \n3                         Researcher  \n4  Researcher/Curriculum Development  ",
      "text/html": "<div>\n<style scoped>\n    .dataframe tbody tr th:only-of-type {\n        vertical-align: middle;\n    }\n\n    .dataframe tbody tr th {\n        vertical-align: top;\n    }\n\n    .dataframe thead th {\n        text-align: right;\n    }\n</style>\n<table border=\"1\" class=\"dataframe\">\n  <thead>\n    <tr style=\"text-align: right;\">\n      <th></th>\n      <th>ID</th>\n      <th>Grade</th>\n      <th>Title</th>\n      <th>JoinDate</th>\n      <th>Qualification</th>\n      <th>Criteria</th>\n    </tr>\n  </thead>\n  <tbody>\n    <tr>\n      <th>0</th>\n      <td>LT9210743</td>\n      <td>FA</td>\n      <td>Faculty - Business</td>\n      <td>29-Aug-10</td>\n      <td>Masters</td>\n      <td>Industry &amp; Teaching experience</td>\n    </tr>\n    <tr>\n      <th>1</th>\n      <td>LT9001784</td>\n      <td>FA</td>\n      <td>Faculty - Business</td>\n      <td>19-Aug-99</td>\n      <td>Masters</td>\n      <td>Certification</td>\n    </tr>\n    <tr>\n      <th>2</th>\n      <td>LT9062955</td>\n      <td>FA</td>\n      <td>Faculty - Business</td>\n      <td>08-Apr-07</td>\n      <td>Masters</td>\n      <td>Industry &amp; Teaching experience</td>\n    </tr>\n    <tr>\n      <th>3</th>\n      <td>0</td>\n      <td>FA</td>\n      <td>Faculty - Business</td>\n      <td>14-Aug-16</td>\n      <td>Ph.D</td>\n      <td>Researcher</td>\n    </tr>\n    <tr>\n      <th>4</th>\n      <td>0</td>\n      <td>Chair</td>\n      <td>Faculty - Business</td>\n      <td>14-Aug-16</td>\n      <td>Ph.D</td>\n      <td>Researcher/Curriculum Development</td>\n    </tr>\n  </tbody>\n</table>\n</div>"
     },
     "execution_count": 653,
     "metadata": {},
     "output_type": "execute_result"
    }
   ],
   "source": [
    "df_cleaned.head()"
   ],
   "metadata": {
    "collapsed": false,
    "ExecuteTime": {
     "end_time": "2024-02-23T20:45:00.573549Z",
     "start_time": "2024-02-23T20:45:00.568829Z"
    }
   },
   "id": "b056581c5ede474c"
  },
  {
   "cell_type": "code",
   "execution_count": 654,
   "outputs": [
    {
     "data": {
      "text/plain": "40"
     },
     "execution_count": 654,
     "metadata": {},
     "output_type": "execute_result"
    }
   ],
   "source": [
    "(df['ID'] == '0').sum()"
   ],
   "metadata": {
    "collapsed": false,
    "ExecuteTime": {
     "end_time": "2024-02-23T20:45:01.025500Z",
     "start_time": "2024-02-23T20:45:01.020010Z"
    }
   },
   "id": "992174c631c82f0b"
  },
  {
   "cell_type": "code",
   "execution_count": 655,
   "outputs": [],
   "source": [
    "# Filter ID column which includes a non-zero and null\n",
    "df_cleaned = df_cleaned.loc[(df_cleaned['ID'] != '0') & (df_cleaned['ID'].notnull())]"
   ],
   "metadata": {
    "collapsed": false,
    "ExecuteTime": {
     "end_time": "2024-02-23T20:45:01.489174Z",
     "start_time": "2024-02-23T20:45:01.483381Z"
    }
   },
   "id": "fd561c94a698a668"
  },
  {
   "cell_type": "code",
   "execution_count": 656,
   "outputs": [
    {
     "data": {
      "text/plain": "          ID Grade                       Title   JoinDate Qualification  \\\n0  LT9210743    FA          Faculty - Business  29-Aug-10       Masters   \n1  LT9001784    FA          Faculty - Business  19-Aug-99       Masters   \n2  LT9062955    FA          Faculty - Business  08-Apr-07       Masters   \n5  LT9329000    FA          Faculty - Business  10-Aug-15     Doctorate   \n6  LT9308851    FA  Faculty - Business (Admin)  08-Mar-15       Masters   \n\n                         Criteria  \n0  Industry & Teaching experience  \n1                   Certification  \n2  Industry & Teaching experience  \n5  Industry & Teaching experience  \n6  Industry & Teaching experience  ",
      "text/html": "<div>\n<style scoped>\n    .dataframe tbody tr th:only-of-type {\n        vertical-align: middle;\n    }\n\n    .dataframe tbody tr th {\n        vertical-align: top;\n    }\n\n    .dataframe thead th {\n        text-align: right;\n    }\n</style>\n<table border=\"1\" class=\"dataframe\">\n  <thead>\n    <tr style=\"text-align: right;\">\n      <th></th>\n      <th>ID</th>\n      <th>Grade</th>\n      <th>Title</th>\n      <th>JoinDate</th>\n      <th>Qualification</th>\n      <th>Criteria</th>\n    </tr>\n  </thead>\n  <tbody>\n    <tr>\n      <th>0</th>\n      <td>LT9210743</td>\n      <td>FA</td>\n      <td>Faculty - Business</td>\n      <td>29-Aug-10</td>\n      <td>Masters</td>\n      <td>Industry &amp; Teaching experience</td>\n    </tr>\n    <tr>\n      <th>1</th>\n      <td>LT9001784</td>\n      <td>FA</td>\n      <td>Faculty - Business</td>\n      <td>19-Aug-99</td>\n      <td>Masters</td>\n      <td>Certification</td>\n    </tr>\n    <tr>\n      <th>2</th>\n      <td>LT9062955</td>\n      <td>FA</td>\n      <td>Faculty - Business</td>\n      <td>08-Apr-07</td>\n      <td>Masters</td>\n      <td>Industry &amp; Teaching experience</td>\n    </tr>\n    <tr>\n      <th>5</th>\n      <td>LT9329000</td>\n      <td>FA</td>\n      <td>Faculty - Business</td>\n      <td>10-Aug-15</td>\n      <td>Doctorate</td>\n      <td>Industry &amp; Teaching experience</td>\n    </tr>\n    <tr>\n      <th>6</th>\n      <td>LT9308851</td>\n      <td>FA</td>\n      <td>Faculty - Business (Admin)</td>\n      <td>08-Mar-15</td>\n      <td>Masters</td>\n      <td>Industry &amp; Teaching experience</td>\n    </tr>\n  </tbody>\n</table>\n</div>"
     },
     "execution_count": 656,
     "metadata": {},
     "output_type": "execute_result"
    }
   ],
   "source": [
    "df_cleaned.head()"
   ],
   "metadata": {
    "collapsed": false,
    "ExecuteTime": {
     "end_time": "2024-02-23T20:45:02.014229Z",
     "start_time": "2024-02-23T20:45:02.008912Z"
    }
   },
   "id": "c205514045a1b043"
  },
  {
   "cell_type": "code",
   "execution_count": 657,
   "outputs": [
    {
     "data": {
      "text/plain": "5"
     },
     "execution_count": 657,
     "metadata": {},
     "output_type": "execute_result"
    }
   ],
   "source": [
    "id_data_constraint = 'LT'\n",
    "non_LT_ID_count = len(df_cleaned) - df_cleaned['ID'].str.startswith(id_data_constraint).sum()\n",
    "non_LT_ID_count"
   ],
   "metadata": {
    "collapsed": false,
    "ExecuteTime": {
     "end_time": "2024-02-23T20:45:02.917659Z",
     "start_time": "2024-02-23T20:45:02.912097Z"
    }
   },
   "id": "fcc3153dc3cabc20"
  },
  {
   "cell_type": "code",
   "execution_count": 658,
   "outputs": [],
   "source": [
    "mask = df_cleaned['ID'].str.startswith(id_data_constraint)\n",
    "df_cleaned = df_cleaned[mask]"
   ],
   "metadata": {
    "collapsed": false,
    "ExecuteTime": {
     "end_time": "2024-02-23T20:45:03.533913Z",
     "start_time": "2024-02-23T20:45:03.528536Z"
    }
   },
   "id": "39c86e64c7f391e9"
  },
  {
   "cell_type": "code",
   "execution_count": 659,
   "outputs": [
    {
     "data": {
      "text/plain": "ID               0\nGrade            0\nTitle            0\nJoinDate         0\nQualification    6\nCriteria         0\ndtype: int64"
     },
     "execution_count": 659,
     "metadata": {},
     "output_type": "execute_result"
    }
   ],
   "source": [
    "df_cleaned.isnull().sum()"
   ],
   "metadata": {
    "collapsed": false,
    "ExecuteTime": {
     "end_time": "2024-02-23T20:45:04.189600Z",
     "start_time": "2024-02-23T20:45:04.184696Z"
    }
   },
   "id": "8bad8d71b013cb7e"
  },
  {
   "cell_type": "code",
   "execution_count": 660,
   "outputs": [
    {
     "data": {
      "text/plain": "ID               0\nGrade            0\nTitle            0\nJoinDate         0\nQualification    6\nCriteria         0\ndtype: int64"
     },
     "execution_count": 660,
     "metadata": {},
     "output_type": "execute_result"
    }
   ],
   "source": [
    "df_cleaned.isna().sum()"
   ],
   "metadata": {
    "collapsed": false,
    "ExecuteTime": {
     "end_time": "2024-02-23T20:45:04.720895Z",
     "start_time": "2024-02-23T20:45:04.715156Z"
    }
   },
   "id": "39264eb8e0f1b79e"
  },
  {
   "cell_type": "code",
   "execution_count": 661,
   "outputs": [],
   "source": [
    "# Convert FA Grade to 0.0\n",
    "df_cleaned['Grade'] = df_cleaned['Grade'].replace('FA', 0.0)"
   ],
   "metadata": {
    "collapsed": false,
    "ExecuteTime": {
     "end_time": "2024-02-23T20:45:05.235441Z",
     "start_time": "2024-02-23T20:45:05.230819Z"
    }
   },
   "id": "67fba02a2526635"
  },
  {
   "cell_type": "code",
   "execution_count": 662,
   "outputs": [
    {
     "data": {
      "text/plain": "Qualification\nMasters                                                                     153\nDoctorate                                                                    52\nBachelor                                                                     11\nBachelor (Applied Science) in Business administration( Human Resources )      1\n Doctorate of Business Administration                                         1\n Ph. D. (Business Administration)                                             1\nMaters of Philosophy (Economics)                                              1\nMaster's Degree in Public Relations and Press Office Management               1\nPhD Corporate Governance and Accounting                                       1\nMasters (Business Administration), Master of Philosophy (Business)            1\nMaster of Business Administration (MBA) and MA (Economics)                    1\nPh.D in Organization and Management                                           1\nMaster of International Business                                              1\nMBA                                                                           1\nDoctor of Jurisprudence Degree                                                1\nMBA in Banking & Finance                                                      1\nPh.D                                                                          1\nPh.D (Economics)                                                              1\nName: count, dtype: int64"
     },
     "execution_count": 662,
     "metadata": {},
     "output_type": "execute_result"
    }
   ],
   "source": [
    "df_cleaned['Qualification'].value_counts()"
   ],
   "metadata": {
    "collapsed": false,
    "ExecuteTime": {
     "end_time": "2024-02-23T20:45:05.799060Z",
     "start_time": "2024-02-23T20:45:05.794100Z"
    }
   },
   "id": "5892439d3cfb0dc3"
  },
  {
   "cell_type": "code",
   "execution_count": 663,
   "outputs": [
    {
     "data": {
      "text/plain": "6"
     },
     "execution_count": 663,
     "metadata": {},
     "output_type": "execute_result"
    }
   ],
   "source": [
    "df_cleaned.Qualification.isna().sum()"
   ],
   "metadata": {
    "collapsed": false,
    "ExecuteTime": {
     "end_time": "2024-02-23T20:45:06.468934Z",
     "start_time": "2024-02-23T20:45:06.461397Z"
    }
   },
   "id": "d432f3ff379b1e02"
  },
  {
   "cell_type": "code",
   "execution_count": 664,
   "outputs": [],
   "source": [
    "df_cleaned = df_cleaned.dropna(subset=['Qualification'])"
   ],
   "metadata": {
    "collapsed": false,
    "ExecuteTime": {
     "end_time": "2024-02-23T20:45:07.019865Z",
     "start_time": "2024-02-23T20:45:07.013265Z"
    }
   },
   "id": "73ba19f185e32f5"
  },
  {
   "cell_type": "code",
   "execution_count": 665,
   "outputs": [
    {
     "data": {
      "text/plain": "0"
     },
     "execution_count": 665,
     "metadata": {},
     "output_type": "execute_result"
    }
   ],
   "source": [
    "df_cleaned.Qualification.isna().sum()"
   ],
   "metadata": {
    "collapsed": false,
    "ExecuteTime": {
     "end_time": "2024-02-23T20:45:07.559272Z",
     "start_time": "2024-02-23T20:45:07.551470Z"
    }
   },
   "id": "443ce737e1c6e09d"
  },
  {
   "cell_type": "code",
   "execution_count": 666,
   "outputs": [],
   "source": [
    "df_cleaned['Qualification'] = df_cleaned['Qualification'].str.lower()\n",
    "valid_qualifications = ['masters', 'doctorate', 'ph.d', 'bachelor']\n",
    "df_cleaned = df_cleaned[df_cleaned['Qualification'].isin(valid_qualifications)]"
   ],
   "metadata": {
    "collapsed": false,
    "ExecuteTime": {
     "end_time": "2024-02-23T20:45:08.110896Z",
     "start_time": "2024-02-23T20:45:08.104323Z"
    }
   },
   "id": "48916e869e3cd8a0"
  },
  {
   "cell_type": "code",
   "execution_count": 667,
   "outputs": [
    {
     "data": {
      "text/plain": "          ID  Grade                       Title   JoinDate Qualification  \\\n0  LT9210743    0.0          Faculty - Business  29-Aug-10       masters   \n1  LT9001784    0.0          Faculty - Business  19-Aug-99       masters   \n2  LT9062955    0.0          Faculty - Business  08-Apr-07       masters   \n5  LT9329000    0.0          Faculty - Business  10-Aug-15     doctorate   \n6  LT9308851    0.0  Faculty - Business (Admin)  08-Mar-15       masters   \n\n                         Criteria  \n0  Industry & Teaching experience  \n1                   Certification  \n2  Industry & Teaching experience  \n5  Industry & Teaching experience  \n6  Industry & Teaching experience  ",
      "text/html": "<div>\n<style scoped>\n    .dataframe tbody tr th:only-of-type {\n        vertical-align: middle;\n    }\n\n    .dataframe tbody tr th {\n        vertical-align: top;\n    }\n\n    .dataframe thead th {\n        text-align: right;\n    }\n</style>\n<table border=\"1\" class=\"dataframe\">\n  <thead>\n    <tr style=\"text-align: right;\">\n      <th></th>\n      <th>ID</th>\n      <th>Grade</th>\n      <th>Title</th>\n      <th>JoinDate</th>\n      <th>Qualification</th>\n      <th>Criteria</th>\n    </tr>\n  </thead>\n  <tbody>\n    <tr>\n      <th>0</th>\n      <td>LT9210743</td>\n      <td>0.0</td>\n      <td>Faculty - Business</td>\n      <td>29-Aug-10</td>\n      <td>masters</td>\n      <td>Industry &amp; Teaching experience</td>\n    </tr>\n    <tr>\n      <th>1</th>\n      <td>LT9001784</td>\n      <td>0.0</td>\n      <td>Faculty - Business</td>\n      <td>19-Aug-99</td>\n      <td>masters</td>\n      <td>Certification</td>\n    </tr>\n    <tr>\n      <th>2</th>\n      <td>LT9062955</td>\n      <td>0.0</td>\n      <td>Faculty - Business</td>\n      <td>08-Apr-07</td>\n      <td>masters</td>\n      <td>Industry &amp; Teaching experience</td>\n    </tr>\n    <tr>\n      <th>5</th>\n      <td>LT9329000</td>\n      <td>0.0</td>\n      <td>Faculty - Business</td>\n      <td>10-Aug-15</td>\n      <td>doctorate</td>\n      <td>Industry &amp; Teaching experience</td>\n    </tr>\n    <tr>\n      <th>6</th>\n      <td>LT9308851</td>\n      <td>0.0</td>\n      <td>Faculty - Business (Admin)</td>\n      <td>08-Mar-15</td>\n      <td>masters</td>\n      <td>Industry &amp; Teaching experience</td>\n    </tr>\n  </tbody>\n</table>\n</div>"
     },
     "execution_count": 667,
     "metadata": {},
     "output_type": "execute_result"
    }
   ],
   "source": [
    "df_cleaned.head()"
   ],
   "metadata": {
    "collapsed": false,
    "ExecuteTime": {
     "end_time": "2024-02-23T20:45:08.686720Z",
     "start_time": "2024-02-23T20:45:08.681927Z"
    }
   },
   "id": "8d0971cf42ae36c3"
  },
  {
   "cell_type": "code",
   "execution_count": 668,
   "outputs": [],
   "source": [
    "qualification_mapping = {\"bachelor\": 1, \"masters\": 2, \"doctorate\": 3, \"ph.d\": 4}\n",
    "df_cleaned['Qualification'] = df_cleaned['Qualification'].map(qualification_mapping)"
   ],
   "metadata": {
    "collapsed": false,
    "ExecuteTime": {
     "end_time": "2024-02-23T20:45:09.210190Z",
     "start_time": "2024-02-23T20:45:09.202328Z"
    }
   },
   "id": "ea9c066b5de719c1"
  },
  {
   "cell_type": "code",
   "execution_count": 669,
   "outputs": [
    {
     "data": {
      "text/plain": "          ID  Grade                       Title   JoinDate  Qualification  \\\n0  LT9210743    0.0          Faculty - Business  29-Aug-10              2   \n1  LT9001784    0.0          Faculty - Business  19-Aug-99              2   \n2  LT9062955    0.0          Faculty - Business  08-Apr-07              2   \n5  LT9329000    0.0          Faculty - Business  10-Aug-15              3   \n6  LT9308851    0.0  Faculty - Business (Admin)  08-Mar-15              2   \n\n                         Criteria  \n0  Industry & Teaching experience  \n1                   Certification  \n2  Industry & Teaching experience  \n5  Industry & Teaching experience  \n6  Industry & Teaching experience  ",
      "text/html": "<div>\n<style scoped>\n    .dataframe tbody tr th:only-of-type {\n        vertical-align: middle;\n    }\n\n    .dataframe tbody tr th {\n        vertical-align: top;\n    }\n\n    .dataframe thead th {\n        text-align: right;\n    }\n</style>\n<table border=\"1\" class=\"dataframe\">\n  <thead>\n    <tr style=\"text-align: right;\">\n      <th></th>\n      <th>ID</th>\n      <th>Grade</th>\n      <th>Title</th>\n      <th>JoinDate</th>\n      <th>Qualification</th>\n      <th>Criteria</th>\n    </tr>\n  </thead>\n  <tbody>\n    <tr>\n      <th>0</th>\n      <td>LT9210743</td>\n      <td>0.0</td>\n      <td>Faculty - Business</td>\n      <td>29-Aug-10</td>\n      <td>2</td>\n      <td>Industry &amp; Teaching experience</td>\n    </tr>\n    <tr>\n      <th>1</th>\n      <td>LT9001784</td>\n      <td>0.0</td>\n      <td>Faculty - Business</td>\n      <td>19-Aug-99</td>\n      <td>2</td>\n      <td>Certification</td>\n    </tr>\n    <tr>\n      <th>2</th>\n      <td>LT9062955</td>\n      <td>0.0</td>\n      <td>Faculty - Business</td>\n      <td>08-Apr-07</td>\n      <td>2</td>\n      <td>Industry &amp; Teaching experience</td>\n    </tr>\n    <tr>\n      <th>5</th>\n      <td>LT9329000</td>\n      <td>0.0</td>\n      <td>Faculty - Business</td>\n      <td>10-Aug-15</td>\n      <td>3</td>\n      <td>Industry &amp; Teaching experience</td>\n    </tr>\n    <tr>\n      <th>6</th>\n      <td>LT9308851</td>\n      <td>0.0</td>\n      <td>Faculty - Business (Admin)</td>\n      <td>08-Mar-15</td>\n      <td>2</td>\n      <td>Industry &amp; Teaching experience</td>\n    </tr>\n  </tbody>\n</table>\n</div>"
     },
     "execution_count": 669,
     "metadata": {},
     "output_type": "execute_result"
    }
   ],
   "source": [
    "df_cleaned.head()"
   ],
   "metadata": {
    "collapsed": false,
    "ExecuteTime": {
     "end_time": "2024-02-23T20:45:09.805892Z",
     "start_time": "2024-02-23T20:45:09.799935Z"
    }
   },
   "id": "dbbcf8e36e92529b"
  },
  {
   "cell_type": "code",
   "execution_count": 670,
   "outputs": [
    {
     "data": {
      "text/plain": "Title\nFaculty - Business                       198\nFaculty - Trainee                          8\nFaculty- Business                          2\nFaculty - Business (Admin)                 1\nAdjunct Faculty - Business                 1\nFaculty-Business (HR & Admin.)             1\nFaculty - Business                         1\nFaculty - Business & Comp Lit Faculty      1\nFaculty-Business                           1\nBusiness, Comp & Math Faculty              1\nGraduate Trainee                           1\nFaculty - Business & Comp Lit.             1\nName: count, dtype: int64"
     },
     "execution_count": 670,
     "metadata": {},
     "output_type": "execute_result"
    }
   ],
   "source": [
    "df_cleaned.Title.value_counts()"
   ],
   "metadata": {
    "collapsed": false,
    "ExecuteTime": {
     "end_time": "2024-02-23T20:45:10.300938Z",
     "start_time": "2024-02-23T20:45:10.296094Z"
    }
   },
   "id": "509aa9f983c5cbea"
  },
  {
   "cell_type": "code",
   "execution_count": 671,
   "outputs": [
    {
     "data": {
      "text/plain": "Title\nFaculty - Business    208\nFaculty - Trainee       8\nGraduate Trainee        1\nName: count, dtype: int64"
     },
     "execution_count": 671,
     "metadata": {},
     "output_type": "execute_result"
    }
   ],
   "source": [
    "df_cleaned.loc[(df_cleaned['Title'] != 'Faculty - Trainee') & (\n",
    "        df_cleaned['Title'] != 'Graduate Trainee'), 'Title'] = 'Faculty - Business'\n",
    "df_cleaned['Title'].value_counts()"
   ],
   "metadata": {
    "collapsed": false,
    "ExecuteTime": {
     "end_time": "2024-02-23T20:45:10.877263Z",
     "start_time": "2024-02-23T20:45:10.871991Z"
    }
   },
   "id": "f22d0d8b89fab6ad"
  },
  {
   "cell_type": "code",
   "execution_count": 672,
   "outputs": [],
   "source": [
    "title_mapping_dict = {\n",
    "    'Faculty - Business': 'Faculty-Business',\n",
    "    'Faculty - Trainee': 'Faculty-Trainee',\n",
    "    'Graduate Trainee': 'Faculty-Trainee',\n",
    "}\n",
    "df_cleaned['Title'] = df_cleaned['Title'].replace(title_mapping_dict)"
   ],
   "metadata": {
    "collapsed": false,
    "ExecuteTime": {
     "end_time": "2024-02-23T20:45:11.391820Z",
     "start_time": "2024-02-23T20:45:11.384198Z"
    }
   },
   "id": "737ab94637b9690e"
  },
  {
   "cell_type": "code",
   "execution_count": 673,
   "outputs": [
    {
     "data": {
      "text/plain": "Title\nFaculty-Business    208\nFaculty-Trainee       9\nName: count, dtype: int64"
     },
     "execution_count": 673,
     "metadata": {},
     "output_type": "execute_result"
    }
   ],
   "source": [
    "df_cleaned.Title.value_counts()"
   ],
   "metadata": {
    "collapsed": false,
    "ExecuteTime": {
     "end_time": "2024-02-23T20:45:12.120873Z",
     "start_time": "2024-02-23T20:45:12.114535Z"
    }
   },
   "id": "ba3f6ee82d69881e"
  },
  {
   "cell_type": "code",
   "execution_count": 674,
   "outputs": [],
   "source": [
    "title_mapping = {\"Faculty-Business\": 1, \"Faculty-Trainee\": 2}\n",
    "df_cleaned['Title'] = df_cleaned['Title'].map(title_mapping)"
   ],
   "metadata": {
    "collapsed": false,
    "ExecuteTime": {
     "end_time": "2024-02-23T20:45:12.634527Z",
     "start_time": "2024-02-23T20:45:12.628187Z"
    }
   },
   "id": "f37ca37390d4f939"
  },
  {
   "cell_type": "code",
   "execution_count": 675,
   "outputs": [
    {
     "data": {
      "text/plain": "Title\n1    208\n2      9\nName: count, dtype: int64"
     },
     "execution_count": 675,
     "metadata": {},
     "output_type": "execute_result"
    }
   ],
   "source": [
    "df_cleaned.Title.value_counts()"
   ],
   "metadata": {
    "collapsed": false,
    "ExecuteTime": {
     "end_time": "2024-02-23T20:45:13.276763Z",
     "start_time": "2024-02-23T20:45:13.268519Z"
    }
   },
   "id": "a769e423a0165125"
  },
  {
   "cell_type": "code",
   "execution_count": 676,
   "outputs": [
    {
     "data": {
      "text/plain": "Criteria\nIndustry & Teaching experience    192\nCertification                      22\nTrainee                             2\nResearcher                          1\nName: count, dtype: int64"
     },
     "execution_count": 676,
     "metadata": {},
     "output_type": "execute_result"
    }
   ],
   "source": [
    "df_cleaned.Criteria.value_counts()"
   ],
   "metadata": {
    "collapsed": false,
    "ExecuteTime": {
     "end_time": "2024-02-23T20:45:13.755370Z",
     "start_time": "2024-02-23T20:45:13.749042Z"
    }
   },
   "id": "b25073b831b5adb3"
  },
  {
   "cell_type": "code",
   "execution_count": 677,
   "outputs": [],
   "source": [
    "# Create a dataframe with each category separated\n",
    "criteria = df_cleaned['Criteria'].str.get_dummies('/')\n",
    "df_cleaned = df_cleaned.drop(columns=['Criteria'])\n",
    "\n",
    "# Join with the original dataframe\n",
    "df_cleaned = df_cleaned.join(criteria)"
   ],
   "metadata": {
    "collapsed": false,
    "ExecuteTime": {
     "end_time": "2024-02-23T20:45:14.373496Z",
     "start_time": "2024-02-23T20:45:14.361908Z"
    }
   },
   "id": "6d7057ccd4132c15"
  },
  {
   "cell_type": "code",
   "execution_count": 678,
   "outputs": [
    {
     "data": {
      "text/plain": "          ID  Grade  Title   JoinDate  Qualification  Certification  \\\n0  LT9210743    0.0      1  29-Aug-10              2              0   \n1  LT9001784    0.0      1  19-Aug-99              2              1   \n2  LT9062955    0.0      1  08-Apr-07              2              0   \n5  LT9329000    0.0      1  10-Aug-15              3              0   \n6  LT9308851    0.0      1  08-Mar-15              2              0   \n\n   Industry & Teaching experience  Researcher  Trainee  \n0                               1           0        0  \n1                               0           0        0  \n2                               1           0        0  \n5                               1           0        0  \n6                               1           0        0  ",
      "text/html": "<div>\n<style scoped>\n    .dataframe tbody tr th:only-of-type {\n        vertical-align: middle;\n    }\n\n    .dataframe tbody tr th {\n        vertical-align: top;\n    }\n\n    .dataframe thead th {\n        text-align: right;\n    }\n</style>\n<table border=\"1\" class=\"dataframe\">\n  <thead>\n    <tr style=\"text-align: right;\">\n      <th></th>\n      <th>ID</th>\n      <th>Grade</th>\n      <th>Title</th>\n      <th>JoinDate</th>\n      <th>Qualification</th>\n      <th>Certification</th>\n      <th>Industry &amp; Teaching experience</th>\n      <th>Researcher</th>\n      <th>Trainee</th>\n    </tr>\n  </thead>\n  <tbody>\n    <tr>\n      <th>0</th>\n      <td>LT9210743</td>\n      <td>0.0</td>\n      <td>1</td>\n      <td>29-Aug-10</td>\n      <td>2</td>\n      <td>0</td>\n      <td>1</td>\n      <td>0</td>\n      <td>0</td>\n    </tr>\n    <tr>\n      <th>1</th>\n      <td>LT9001784</td>\n      <td>0.0</td>\n      <td>1</td>\n      <td>19-Aug-99</td>\n      <td>2</td>\n      <td>1</td>\n      <td>0</td>\n      <td>0</td>\n      <td>0</td>\n    </tr>\n    <tr>\n      <th>2</th>\n      <td>LT9062955</td>\n      <td>0.0</td>\n      <td>1</td>\n      <td>08-Apr-07</td>\n      <td>2</td>\n      <td>0</td>\n      <td>1</td>\n      <td>0</td>\n      <td>0</td>\n    </tr>\n    <tr>\n      <th>5</th>\n      <td>LT9329000</td>\n      <td>0.0</td>\n      <td>1</td>\n      <td>10-Aug-15</td>\n      <td>3</td>\n      <td>0</td>\n      <td>1</td>\n      <td>0</td>\n      <td>0</td>\n    </tr>\n    <tr>\n      <th>6</th>\n      <td>LT9308851</td>\n      <td>0.0</td>\n      <td>1</td>\n      <td>08-Mar-15</td>\n      <td>2</td>\n      <td>0</td>\n      <td>1</td>\n      <td>0</td>\n      <td>0</td>\n    </tr>\n  </tbody>\n</table>\n</div>"
     },
     "execution_count": 678,
     "metadata": {},
     "output_type": "execute_result"
    }
   ],
   "source": [
    "df_cleaned.head()"
   ],
   "metadata": {
    "collapsed": false,
    "ExecuteTime": {
     "end_time": "2024-02-23T20:45:15.266192Z",
     "start_time": "2024-02-23T20:45:15.261249Z"
    }
   },
   "id": "74d273cb1bf42d2f"
  },
  {
   "cell_type": "code",
   "execution_count": 679,
   "outputs": [],
   "source": [
    "df_cleaned['JoinDate'] = pd.to_datetime(df_cleaned['JoinDate'], format='%d-%b-%y')"
   ],
   "metadata": {
    "collapsed": false,
    "ExecuteTime": {
     "end_time": "2024-02-23T20:45:15.765006Z",
     "start_time": "2024-02-23T20:45:15.759794Z"
    }
   },
   "id": "a5cadc2d4fdd714e"
  },
  {
   "cell_type": "code",
   "execution_count": 680,
   "outputs": [
    {
     "data": {
      "text/plain": "ID                                0\nGrade                             0\nTitle                             0\nJoinDate                          0\nQualification                     0\nCertification                     0\nIndustry & Teaching experience    0\nResearcher                        0\nTrainee                           0\ndtype: int64"
     },
     "execution_count": 680,
     "metadata": {},
     "output_type": "execute_result"
    }
   ],
   "source": [
    "df_cleaned.isna().sum()"
   ],
   "metadata": {
    "collapsed": false,
    "ExecuteTime": {
     "end_time": "2024-02-23T20:45:16.346737Z",
     "start_time": "2024-02-23T20:45:16.341043Z"
    }
   },
   "id": "c4b5974fc26b7fbc"
  },
  {
   "cell_type": "code",
   "execution_count": 681,
   "outputs": [
    {
     "data": {
      "text/plain": "0.0"
     },
     "execution_count": 681,
     "metadata": {},
     "output_type": "execute_result"
    }
   ],
   "source": [
    "# After cleansing\n",
    "total_missing_values_after = df_cleaned.isnull().sum().sum()\n",
    "percentage_missing_after = (total_missing_values_after / total_values) * 100\n",
    "percentage_missing_after"
   ],
   "metadata": {
    "collapsed": false,
    "ExecuteTime": {
     "end_time": "2024-02-23T20:45:16.847780Z",
     "start_time": "2024-02-23T20:45:16.842727Z"
    }
   },
   "id": "965f601e61dc44ee"
  },
  {
   "cell_type": "code",
   "execution_count": 682,
   "outputs": [],
   "source": [
    "# Calculate missing values after cleansing\n",
    "missing_after = df_cleaned.isna().sum()"
   ],
   "metadata": {
    "collapsed": false,
    "ExecuteTime": {
     "end_time": "2024-02-23T20:45:17.414123Z",
     "start_time": "2024-02-23T20:45:17.407864Z"
    }
   },
   "id": "876101c0acb02776"
  },
  {
   "cell_type": "code",
   "execution_count": 683,
   "outputs": [],
   "source": [
    "# Create a combined DataFrame\n",
    "missing_df = pd.concat([missing_before, missing_after], axis=1)\n",
    "missing_df.columns = ['before', 'after']"
   ],
   "metadata": {
    "collapsed": false,
    "ExecuteTime": {
     "end_time": "2024-02-23T20:45:17.917383Z",
     "start_time": "2024-02-23T20:45:17.909904Z"
    }
   },
   "id": "b91163f1fbf3078d"
  },
  {
   "cell_type": "code",
   "execution_count": 684,
   "outputs": [
    {
     "data": {
      "text/plain": "<Figure size 500x500 with 1 Axes>",
      "image/png": "[encoded data removed]"
     },
     "metadata": {},
     "output_type": "display_data"
    }
   ],
   "source": [
    "# Plotting\n",
    "missing_df.plot(kind='bar', figsize=(5,5))\n",
    "plt.ylabel('Missing Values')\n",
    "plt.title('Missing Values Before and After Data Cleaning')\n",
    "plt.show()\n",
    "# Save figure\n",
    "plt.savefig('missing_values.png', dpi=600, bbox_inches='tight')\n",
    "plt.close()"
   ],
   "metadata": {
    "collapsed": false,
    "ExecuteTime": {
     "end_time": "2024-02-23T20:45:18.728089Z",
     "start_time": "2024-02-23T20:45:18.364011Z"
    }
   },
   "id": "ef4ddff286dfb77c"
  },
  {
   "cell_type": "code",
   "execution_count": 685,
   "outputs": [],
   "source": [
    "# Calculate the '0' values in 'ID' column before cleaning\n",
    "ID_zero_counts_before = (df['ID'] == '0').sum()\n",
    "\n",
    "# Calculate the '0' values in 'ID' column after cleaning\n",
    "ID_zero_counts_after = (df_cleaned['ID'] == '0').sum()"
   ],
   "metadata": {
    "collapsed": false,
    "ExecuteTime": {
     "end_time": "2024-02-23T20:45:19.043840Z",
     "start_time": "2024-02-23T20:45:19.039146Z"
    }
   },
   "id": "7d83c4f54286b18"
  },
  {
   "cell_type": "code",
   "execution_count": 686,
   "outputs": [],
   "source": [
    "# Create a DataFrame to plot\n",
    "ID_zero_counts_df = pd.DataFrame({'Before Cleaning': [ID_zero_counts_before], 'After Cleaning': [ID_zero_counts_after]})\n",
    "ID_zero_counts_df = ID_zero_counts_df.transpose()"
   ],
   "metadata": {
    "collapsed": false,
    "ExecuteTime": {
     "end_time": "2024-02-23T20:45:23.544547Z",
     "start_time": "2024-02-23T20:45:23.540175Z"
    }
   },
   "id": "e66969482592526"
  },
  {
   "cell_type": "code",
   "execution_count": 687,
   "outputs": [
    {
     "data": {
      "text/plain": "Text(0.5, 1.0, 'Comparison of ID==0 Before and After Data Cleaning')"
     },
     "execution_count": 687,
     "metadata": {},
     "output_type": "execute_result"
    },
    {
     "data": {
      "text/plain": "<Figure size 640x480 with 1 Axes>",
      "image/png": "[encoded data removed]"
     },
     "metadata": {},
     "output_type": "display_data"
    }
   ],
   "source": [
    "# Plotting\n",
    "ID_zero_counts_df.plot(kind='bar', legend = False)\n",
    "plt.ylabel('Number of ID == 0')\n",
    "plt.title('Comparison of ID==0 Before and After Data Cleaning')"
   ],
   "metadata": {
    "collapsed": false,
    "ExecuteTime": {
     "end_time": "2024-02-23T20:45:24.169219Z",
     "start_time": "2024-02-23T20:45:24.109486Z"
    }
   },
   "id": "3fcdc9ab0dacdd42"
  },
  {
   "cell_type": "code",
   "execution_count": 688,
   "outputs": [],
   "source": [
    "# Save figure\n",
    "plt.tight_layout()\n",
    "plt.savefig('ID_zero_counts_comparison.png', dpi=600, bbox_inches='tight')\n",
    "\n",
    "plt.close()"
   ],
   "metadata": {
    "collapsed": false,
    "ExecuteTime": {
     "end_time": "2024-02-23T20:45:25.206870Z",
     "start_time": "2024-02-23T20:45:24.947890Z"
    }
   },
   "id": "29944c5185528aa"
  },
  {
   "cell_type": "code",
   "execution_count": 689,
   "outputs": [],
   "source": [
    "# Number of rows before cleaning\n",
    "rows_before = df.shape[0]\n",
    "\n",
    "# Number of rows after cleaning\n",
    "rows_after = df_cleaned.shape[0]"
   ],
   "metadata": {
    "collapsed": false,
    "ExecuteTime": {
     "end_time": "2024-02-23T20:45:25.501854Z",
     "start_time": "2024-02-23T20:45:25.496016Z"
    }
   },
   "id": "8b4f82a47d979b95"
  },
  {
   "cell_type": "code",
   "execution_count": 690,
   "outputs": [],
   "source": [
    "# Create a DataFrame for plotting\n",
    "rows_df = pd.DataFrame({'Before Cleaning': [rows_before], 'After Cleaning': [rows_after]})\n",
    "rows_df = rows_df.transpose()"
   ],
   "metadata": {
    "collapsed": false,
    "ExecuteTime": {
     "end_time": "2024-02-23T20:45:26.118690Z",
     "start_time": "2024-02-23T20:45:26.113421Z"
    }
   },
   "id": "7414662530a38c2c"
  },
  {
   "cell_type": "code",
   "execution_count": 691,
   "outputs": [
    {
     "data": {
      "text/plain": "Text(0.5, 1.0, 'Comparison of Number of Rows Before and After Data Cleaning')"
     },
     "execution_count": 691,
     "metadata": {},
     "output_type": "execute_result"
    },
    {
     "data": {
      "text/plain": "<Figure size 640x480 with 1 Axes>",
      "image/png": "[encoded data removed]"
     },
     "metadata": {},
     "output_type": "display_data"
    }
   ],
   "source": [
    "# Plotting\n",
    "rows_df.plot(kind='bar', legend = False)\n",
    "plt.ylabel('Number of Rows')\n",
    "plt.title('Comparison of Number of Rows Before and After Data Cleaning')"
   ],
   "metadata": {
    "collapsed": false,
    "ExecuteTime": {
     "end_time": "2024-02-23T20:45:26.700829Z",
     "start_time": "2024-02-23T20:45:26.649861Z"
    }
   },
   "id": "8ca0c842398a2681"
  },
  {
   "cell_type": "code",
   "execution_count": 692,
   "outputs": [
    {
     "data": {
      "text/plain": "<Figure size 640x480 with 0 Axes>"
     },
     "metadata": {},
     "output_type": "display_data"
    }
   ],
   "source": [
    "# Save figure\n",
    "plt.tight_layout()\n",
    "plt.savefig('rows_comparison.png', dpi=600, bbox_inches='tight')"
   ],
   "metadata": {
    "collapsed": false,
    "ExecuteTime": {
     "end_time": "2024-02-23T20:45:27.853820Z",
     "start_time": "2024-02-23T20:45:27.625020Z"
    }
   },
   "id": "850196d798c0bd9a"
  },
  {
   "cell_type": "code",
   "execution_count": null,
   "outputs": [],
   "source": [],
   "metadata": {
    "collapsed": false
   },
   "id": "ff7e120e251fdd21"
  }
 ],
 "metadata": {
  "kernelspec": {
   "display_name": "Python 3",
   "language": "python",
   "name": "python3"
  },
  "language_info": {
   "codemirror_mode": {
    "name": "ipython",
    "version": 2
   },
   "file_extension": ".py",
   "mimetype": "text/x-python",
   "name": "python",
   "nbconvert_exporter": "python",
   "pygments_lexer": "ipython2",
   "version": "2.7.6"
  }
 },
 "nbformat": 4,
 "nbformat_minor": 5
}
